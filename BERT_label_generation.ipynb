{
 "cells": [
  {
   "cell_type": "code",
   "execution_count": 75,
   "metadata": {},
   "outputs": [
    {
     "name": "stderr",
     "output_type": "stream",
     "text": [
      "Reusing dataset esnli (C:\\Users\\lenna\\.cache\\huggingface\\datasets\\esnli\\plain_text\\0.0.2\\a160e6a02bbb8d828c738918dafec4e7d298782c334b5109af632fec6d779bbc)\n"
     ]
    },
    {
     "data": {
      "application/vnd.jupyter.widget-view+json": {
       "model_id": "5cee3b2222b5457791722b3c1ad296e9",
       "version_major": 2,
       "version_minor": 0
      },
      "text/plain": [
       "  0%|          | 0/3 [00:00<?, ?it/s]"
      ]
     },
     "metadata": {},
     "output_type": "display_data"
    }
   ],
   "source": [
    "from datasets import load_dataset\n",
    "\n",
    "dataset = load_dataset(\"esnli\")"
   ]
  },
  {
   "cell_type": "code",
   "execution_count": 76,
   "metadata": {
    "scrolled": true
   },
   "outputs": [
    {
     "name": "stderr",
     "output_type": "stream",
     "text": [
      "loading configuration file https://huggingface.co/distilbert-base-uncased/resolve/main/config.json from cache at C:\\Users\\lenna/.cache\\huggingface\\transformers\\23454919702d26495337f3da04d1655c7ee010d5ec9d77bdb9e399e00302c0a1.91b885ab15d631bf9cee9dc9d25ece0afd932f2f5130eba28f2055b2220c0333\n",
      "Model config DistilBertConfig {\n",
      "  \"_name_or_path\": \"distilbert-base-uncased\",\n",
      "  \"activation\": \"gelu\",\n",
      "  \"architectures\": [\n",
      "    \"DistilBertForMaskedLM\"\n",
      "  ],\n",
      "  \"attention_dropout\": 0.1,\n",
      "  \"dim\": 768,\n",
      "  \"dropout\": 0.1,\n",
      "  \"hidden_dim\": 3072,\n",
      "  \"initializer_range\": 0.02,\n",
      "  \"max_position_embeddings\": 512,\n",
      "  \"model_type\": \"distilbert\",\n",
      "  \"n_heads\": 12,\n",
      "  \"n_layers\": 6,\n",
      "  \"pad_token_id\": 0,\n",
      "  \"qa_dropout\": 0.1,\n",
      "  \"seq_classif_dropout\": 0.2,\n",
      "  \"sinusoidal_pos_embds\": false,\n",
      "  \"tie_weights_\": true,\n",
      "  \"transformers_version\": \"4.16.2\",\n",
      "  \"vocab_size\": 30522\n",
      "}\n",
      "\n",
      "loading file https://huggingface.co/distilbert-base-uncased/resolve/main/vocab.txt from cache at C:\\Users\\lenna/.cache\\huggingface\\transformers\\0e1bbfda7f63a99bb52e3915dcf10c3c92122b827d92eb2d34ce94ee79ba486c.d789d64ebfe299b0e416afc4a169632f903f693095b4629a7ea271d5a0cf2c99\n",
      "loading file https://huggingface.co/distilbert-base-uncased/resolve/main/tokenizer.json from cache at C:\\Users\\lenna/.cache\\huggingface\\transformers\\75abb59d7a06f4f640158a9bfcde005264e59e8d566781ab1415b139d2e4c603.7f2721073f19841be16f41b0a70b600ca6b880c8f3df6f3535cbc704371bdfa4\n",
      "loading file https://huggingface.co/distilbert-base-uncased/resolve/main/added_tokens.json from cache at None\n",
      "loading file https://huggingface.co/distilbert-base-uncased/resolve/main/special_tokens_map.json from cache at None\n",
      "loading file https://huggingface.co/distilbert-base-uncased/resolve/main/tokenizer_config.json from cache at C:\\Users\\lenna/.cache\\huggingface\\transformers\\8c8624b8ac8aa99c60c912161f8332de003484428c47906d7ff7eb7f73eecdbb.20430bd8e10ef77a7d2977accefe796051e01bc2fc4aa146bc862997a1a15e79\n",
      "loading configuration file https://huggingface.co/distilbert-base-uncased/resolve/main/config.json from cache at C:\\Users\\lenna/.cache\\huggingface\\transformers\\23454919702d26495337f3da04d1655c7ee010d5ec9d77bdb9e399e00302c0a1.91b885ab15d631bf9cee9dc9d25ece0afd932f2f5130eba28f2055b2220c0333\n",
      "Model config DistilBertConfig {\n",
      "  \"_name_or_path\": \"distilbert-base-uncased\",\n",
      "  \"activation\": \"gelu\",\n",
      "  \"architectures\": [\n",
      "    \"DistilBertForMaskedLM\"\n",
      "  ],\n",
      "  \"attention_dropout\": 0.1,\n",
      "  \"dim\": 768,\n",
      "  \"dropout\": 0.1,\n",
      "  \"hidden_dim\": 3072,\n",
      "  \"initializer_range\": 0.02,\n",
      "  \"max_position_embeddings\": 512,\n",
      "  \"model_type\": \"distilbert\",\n",
      "  \"n_heads\": 12,\n",
      "  \"n_layers\": 6,\n",
      "  \"pad_token_id\": 0,\n",
      "  \"qa_dropout\": 0.1,\n",
      "  \"seq_classif_dropout\": 0.2,\n",
      "  \"sinusoidal_pos_embds\": false,\n",
      "  \"tie_weights_\": true,\n",
      "  \"transformers_version\": \"4.16.2\",\n",
      "  \"vocab_size\": 30522\n",
      "}\n",
      "\n",
      "Loading cached processed dataset at C:\\Users\\lenna\\.cache\\huggingface\\datasets\\esnli\\plain_text\\0.0.2\\a160e6a02bbb8d828c738918dafec4e7d298782c334b5109af632fec6d779bbc\\cache-f2216a64cbdfce5e.arrow\n"
     ]
    },
    {
     "data": {
      "application/vnd.jupyter.widget-view+json": {
       "model_id": "5ec39629b1c74b8d850c7906aab4c694",
       "version_major": 2,
       "version_minor": 0
      },
      "text/plain": [
       "  0%|          | 0/10 [00:00<?, ?ba/s]"
      ]
     },
     "metadata": {},
     "output_type": "display_data"
    },
    {
     "name": "stderr",
     "output_type": "stream",
     "text": [
      "Loading cached processed dataset at C:\\Users\\lenna\\.cache\\huggingface\\datasets\\esnli\\plain_text\\0.0.2\\a160e6a02bbb8d828c738918dafec4e7d298782c334b5109af632fec6d779bbc\\cache-7009e3b628105c5a.arrow\n"
     ]
    }
   ],
   "source": [
    "from transformers import AutoTokenizer, BertTokenizer\n",
    "\n",
    "max_len = len(max(dataset['train']['explanation_1']))\n",
    "tokenizer = AutoTokenizer.from_pretrained(\"distilbert-base-uncased\", model_max_length=max_len)\n",
    "\n",
    "\n",
    "def tokenize_function(examples):\n",
    "    return tokenizer(examples[\"explanation_1\"], padding='max_length', truncation=True)\n",
    "\n",
    "\n",
    "tokenized_datasets = dataset.map(tokenize_function, batched=True)"
   ]
  },
  {
   "cell_type": "code",
   "execution_count": 77,
   "metadata": {},
   "outputs": [
    {
     "name": "stderr",
     "output_type": "stream",
     "text": [
      "Loading cached shuffled indices for dataset at C:\\Users\\lenna\\.cache\\huggingface\\datasets\\esnli\\plain_text\\0.0.2\\a160e6a02bbb8d828c738918dafec4e7d298782c334b5109af632fec6d779bbc\\cache-c9bf9bb97a374f0e.arrow\n",
      "Loading cached shuffled indices for dataset at C:\\Users\\lenna\\.cache\\huggingface\\datasets\\esnli\\plain_text\\0.0.2\\a160e6a02bbb8d828c738918dafec4e7d298782c334b5109af632fec6d779bbc\\cache-3fe858b6695348a5.arrow\n"
     ]
    }
   ],
   "source": [
    "# Selected smaller datasets to test out if it works\n",
    "small_train_dataset = tokenized_datasets[\"train\"].shuffle(seed=42).select(range(1000))\n",
    "small_eval_dataset = tokenized_datasets[\"test\"].shuffle(seed=42).select(range(1000))"
   ]
  },
  {
   "cell_type": "code",
   "execution_count": 90,
   "metadata": {
    "scrolled": true
   },
   "outputs": [
    {
     "name": "stderr",
     "output_type": "stream",
     "text": [
      "loading configuration file https://huggingface.co/distilbert-base-uncased/resolve/main/config.json from cache at C:\\Users\\lenna/.cache\\huggingface\\transformers\\23454919702d26495337f3da04d1655c7ee010d5ec9d77bdb9e399e00302c0a1.91b885ab15d631bf9cee9dc9d25ece0afd932f2f5130eba28f2055b2220c0333\n",
      "You are using a model of type distilbert to instantiate a model of type bert. This is not supported for all configurations of models and can yield errors.\n",
      "Model config BertConfig {\n",
      "  \"activation\": \"gelu\",\n",
      "  \"architectures\": [\n",
      "    \"DistilBertForMaskedLM\"\n",
      "  ],\n",
      "  \"attention_dropout\": 0.1,\n",
      "  \"attention_probs_dropout_prob\": 0.1,\n",
      "  \"classifier_dropout\": null,\n",
      "  \"dim\": 768,\n",
      "  \"dropout\": 0.1,\n",
      "  \"hidden_act\": \"gelu\",\n",
      "  \"hidden_dim\": 3072,\n",
      "  \"hidden_dropout_prob\": 0.1,\n",
      "  \"hidden_size\": 768,\n",
      "  \"id2label\": {\n",
      "    \"0\": \"LABEL_0\",\n",
      "    \"1\": \"LABEL_1\",\n",
      "    \"2\": \"LABEL_2\"\n",
      "  },\n",
      "  \"initializer_range\": 0.02,\n",
      "  \"intermediate_size\": 3072,\n",
      "  \"label2id\": {\n",
      "    \"LABEL_0\": 0,\n",
      "    \"LABEL_1\": 1,\n",
      "    \"LABEL_2\": 2\n",
      "  },\n",
      "  \"layer_norm_eps\": 1e-12,\n",
      "  \"max_position_embeddings\": 512,\n",
      "  \"model_type\": \"bert\",\n",
      "  \"n_heads\": 12,\n",
      "  \"n_layers\": 6,\n",
      "  \"num_attention_heads\": 12,\n",
      "  \"num_hidden_layers\": 12,\n",
      "  \"pad_token_id\": 0,\n",
      "  \"position_embedding_type\": \"absolute\",\n",
      "  \"qa_dropout\": 0.1,\n",
      "  \"seq_classif_dropout\": 0.2,\n",
      "  \"sinusoidal_pos_embds\": false,\n",
      "  \"tie_weights_\": true,\n",
      "  \"transformers_version\": \"4.16.2\",\n",
      "  \"type_vocab_size\": 2,\n",
      "  \"use_cache\": true,\n",
      "  \"vocab_size\": 30522\n",
      "}\n",
      "\n",
      "loading weights file https://huggingface.co/distilbert-base-uncased/resolve/main/pytorch_model.bin from cache at C:\\Users\\lenna/.cache\\huggingface\\transformers\\9c169103d7e5a73936dd2b627e42851bec0831212b677c637033ee4bce9ab5ee.126183e36667471617ae2f0835fab707baa54b731f991507ebbb55ea85adb12a\n",
      "Some weights of the model checkpoint at distilbert-base-uncased were not used when initializing BertForSequenceClassification: ['distilbert.transformer.layer.1.output_layer_norm.bias', 'distilbert.transformer.layer.4.ffn.lin2.bias', 'distilbert.transformer.layer.4.attention.q_lin.weight', 'distilbert.transformer.layer.1.attention.q_lin.bias', 'distilbert.transformer.layer.5.attention.k_lin.weight', 'distilbert.transformer.layer.0.ffn.lin1.bias', 'distilbert.transformer.layer.5.attention.out_lin.bias', 'distilbert.transformer.layer.4.sa_layer_norm.bias', 'distilbert.transformer.layer.4.ffn.lin1.weight', 'distilbert.transformer.layer.3.attention.out_lin.weight', 'distilbert.transformer.layer.2.sa_layer_norm.weight', 'distilbert.transformer.layer.4.attention.out_lin.weight', 'distilbert.transformer.layer.3.ffn.lin2.bias', 'distilbert.transformer.layer.5.attention.q_lin.bias', 'distilbert.transformer.layer.2.ffn.lin1.bias', 'distilbert.transformer.layer.5.ffn.lin2.bias', 'distilbert.transformer.layer.2.attention.k_lin.weight', 'distilbert.transformer.layer.0.ffn.lin2.bias', 'distilbert.transformer.layer.3.ffn.lin1.weight', 'distilbert.transformer.layer.3.ffn.lin1.bias', 'distilbert.transformer.layer.4.attention.out_lin.bias', 'vocab_transform.bias', 'distilbert.transformer.layer.3.output_layer_norm.bias', 'distilbert.transformer.layer.2.attention.v_lin.weight', 'distilbert.transformer.layer.2.sa_layer_norm.bias', 'distilbert.transformer.layer.1.attention.out_lin.weight', 'distilbert.transformer.layer.4.attention.q_lin.bias', 'distilbert.transformer.layer.5.output_layer_norm.weight', 'distilbert.transformer.layer.4.output_layer_norm.bias', 'vocab_transform.weight', 'distilbert.transformer.layer.3.attention.k_lin.weight', 'distilbert.transformer.layer.2.attention.out_lin.bias', 'distilbert.transformer.layer.3.ffn.lin2.weight', 'distilbert.transformer.layer.0.attention.out_lin.bias', 'distilbert.transformer.layer.3.attention.out_lin.bias', 'distilbert.transformer.layer.2.attention.v_lin.bias', 'vocab_projector.weight', 'distilbert.transformer.layer.1.attention.v_lin.bias', 'distilbert.transformer.layer.4.attention.k_lin.weight', 'distilbert.transformer.layer.0.attention.out_lin.weight', 'distilbert.transformer.layer.1.attention.out_lin.bias', 'distilbert.transformer.layer.5.attention.q_lin.weight', 'distilbert.transformer.layer.1.sa_layer_norm.bias', 'distilbert.transformer.layer.4.attention.v_lin.weight', 'distilbert.transformer.layer.0.attention.q_lin.bias', 'distilbert.transformer.layer.3.attention.q_lin.weight', 'distilbert.embeddings.LayerNorm.bias', 'distilbert.transformer.layer.0.attention.v_lin.weight', 'distilbert.transformer.layer.1.attention.v_lin.weight', 'distilbert.transformer.layer.1.ffn.lin2.bias', 'distilbert.transformer.layer.0.ffn.lin2.weight', 'distilbert.transformer.layer.1.ffn.lin1.weight', 'distilbert.embeddings.word_embeddings.weight', 'distilbert.transformer.layer.5.attention.v_lin.bias', 'vocab_projector.bias', 'distilbert.transformer.layer.5.attention.v_lin.weight', 'distilbert.transformer.layer.0.attention.q_lin.weight', 'distilbert.transformer.layer.2.attention.k_lin.bias', 'distilbert.transformer.layer.5.ffn.lin1.weight', 'distilbert.transformer.layer.1.attention.k_lin.bias', 'distilbert.transformer.layer.2.ffn.lin2.bias', 'distilbert.transformer.layer.5.attention.k_lin.bias', 'distilbert.transformer.layer.2.output_layer_norm.weight', 'distilbert.transformer.layer.0.sa_layer_norm.weight', 'distilbert.transformer.layer.2.output_layer_norm.bias', 'distilbert.transformer.layer.1.sa_layer_norm.weight', 'distilbert.transformer.layer.2.ffn.lin1.weight', 'distilbert.transformer.layer.4.attention.v_lin.bias', 'distilbert.transformer.layer.3.attention.k_lin.bias', 'distilbert.transformer.layer.4.output_layer_norm.weight', 'vocab_layer_norm.bias', 'distilbert.transformer.layer.2.ffn.lin2.weight', 'distilbert.transformer.layer.5.ffn.lin2.weight', 'distilbert.transformer.layer.3.attention.v_lin.bias', 'distilbert.transformer.layer.0.output_layer_norm.bias', 'distilbert.transformer.layer.0.attention.k_lin.weight', 'distilbert.transformer.layer.3.output_layer_norm.weight', 'distilbert.transformer.layer.1.ffn.lin2.weight', 'distilbert.transformer.layer.0.ffn.lin1.weight', 'distilbert.transformer.layer.5.attention.out_lin.weight', 'distilbert.transformer.layer.2.attention.q_lin.bias', 'distilbert.embeddings.position_embeddings.weight', 'distilbert.transformer.layer.1.attention.k_lin.weight', 'distilbert.transformer.layer.1.output_layer_norm.weight', 'distilbert.transformer.layer.0.attention.v_lin.bias', 'distilbert.transformer.layer.4.sa_layer_norm.weight', 'distilbert.transformer.layer.3.sa_layer_norm.weight', 'vocab_layer_norm.weight', 'distilbert.transformer.layer.3.sa_layer_norm.bias', 'distilbert.transformer.layer.5.sa_layer_norm.bias', 'distilbert.transformer.layer.0.attention.k_lin.bias', 'distilbert.embeddings.LayerNorm.weight', 'distilbert.transformer.layer.2.attention.q_lin.weight', 'distilbert.transformer.layer.2.attention.out_lin.weight', 'distilbert.transformer.layer.5.output_layer_norm.bias', 'distilbert.transformer.layer.1.ffn.lin1.bias', 'distilbert.transformer.layer.4.ffn.lin1.bias', 'distilbert.transformer.layer.0.sa_layer_norm.bias', 'distilbert.transformer.layer.1.attention.q_lin.weight', 'distilbert.transformer.layer.4.ffn.lin2.weight', 'distilbert.transformer.layer.5.ffn.lin1.bias', 'distilbert.transformer.layer.4.attention.k_lin.bias', 'distilbert.transformer.layer.3.attention.q_lin.bias', 'distilbert.transformer.layer.5.sa_layer_norm.weight', 'distilbert.transformer.layer.3.attention.v_lin.weight', 'distilbert.transformer.layer.0.output_layer_norm.weight']\n",
      "- This IS expected if you are initializing BertForSequenceClassification from the checkpoint of a model trained on another task or with another architecture (e.g. initializing a BertForSequenceClassification model from a BertForPreTraining model).\n",
      "- This IS NOT expected if you are initializing BertForSequenceClassification from the checkpoint of a model that you expect to be exactly identical (initializing a BertForSequenceClassification model from a BertForSequenceClassification model).\n",
      "Some weights of BertForSequenceClassification were not initialized from the model checkpoint at distilbert-base-uncased and are newly initialized: ['encoder.layer.4.output.dense.weight', 'encoder.layer.1.attention.output.LayerNorm.weight', 'encoder.layer.11.output.dense.weight', 'encoder.layer.1.attention.self.value.weight', 'encoder.layer.0.intermediate.dense.bias', 'encoder.layer.1.attention.output.dense.weight', 'encoder.layer.11.attention.self.query.bias', 'embeddings.word_embeddings.weight', 'encoder.layer.4.attention.self.query.bias', 'encoder.layer.9.attention.self.query.weight', 'encoder.layer.5.intermediate.dense.bias', 'encoder.layer.7.attention.self.value.weight', 'encoder.layer.11.attention.output.dense.bias', 'encoder.layer.1.output.LayerNorm.weight', 'encoder.layer.3.attention.self.value.weight', 'encoder.layer.6.output.dense.bias', 'encoder.layer.10.attention.output.LayerNorm.weight', 'encoder.layer.2.attention.output.dense.bias', 'encoder.layer.1.attention.self.key.weight', 'embeddings.token_type_embeddings.weight', 'encoder.layer.4.attention.output.LayerNorm.bias', 'encoder.layer.9.output.dense.bias', 'embeddings.LayerNorm.weight', 'encoder.layer.0.attention.output.LayerNorm.weight', 'encoder.layer.8.intermediate.dense.weight', 'encoder.layer.9.intermediate.dense.weight', 'encoder.layer.9.intermediate.dense.bias', 'encoder.layer.11.output.LayerNorm.bias', 'encoder.layer.3.attention.output.dense.bias', 'encoder.layer.9.output.dense.weight', 'encoder.layer.4.attention.output.dense.weight', 'classifier.bias', 'encoder.layer.3.intermediate.dense.weight', 'encoder.layer.6.attention.self.value.weight', 'encoder.layer.2.attention.output.LayerNorm.bias', 'encoder.layer.10.intermediate.dense.weight', 'encoder.layer.8.intermediate.dense.bias', 'encoder.layer.10.intermediate.dense.bias', 'encoder.layer.6.intermediate.dense.weight', 'embeddings.position_embeddings.weight', 'encoder.layer.2.attention.self.query.weight', 'encoder.layer.3.attention.self.key.weight', 'encoder.layer.7.output.dense.bias', 'encoder.layer.0.output.dense.bias', 'encoder.layer.5.output.dense.bias', 'encoder.layer.5.attention.self.value.weight', 'encoder.layer.4.attention.output.LayerNorm.weight', 'encoder.layer.6.attention.self.key.bias', 'encoder.layer.8.output.dense.weight', 'encoder.layer.9.attention.self.query.bias', 'encoder.layer.4.attention.self.value.weight', 'encoder.layer.11.attention.output.LayerNorm.weight', 'encoder.layer.2.attention.self.query.bias', 'encoder.layer.5.attention.self.key.bias', 'encoder.layer.2.output.dense.weight', 'encoder.layer.6.attention.output.dense.bias', 'encoder.layer.0.attention.self.value.bias', 'encoder.layer.1.intermediate.dense.weight', 'encoder.layer.6.attention.self.value.bias', 'encoder.layer.0.attention.output.LayerNorm.bias', 'encoder.layer.10.attention.self.query.weight', 'encoder.layer.11.attention.self.value.bias', 'encoder.layer.1.attention.self.value.bias', 'classifier.weight', 'encoder.layer.7.intermediate.dense.weight', 'encoder.layer.10.attention.self.value.weight', 'encoder.layer.7.attention.self.query.weight', 'pooler.dense.bias', 'encoder.layer.7.attention.output.dense.bias', 'encoder.layer.2.output.LayerNorm.bias', 'encoder.layer.2.intermediate.dense.weight', 'encoder.layer.3.attention.self.key.bias', 'encoder.layer.3.intermediate.dense.bias', 'encoder.layer.9.attention.self.value.weight', 'encoder.layer.4.output.LayerNorm.weight', 'encoder.layer.4.output.LayerNorm.bias', 'encoder.layer.0.attention.self.value.weight', 'encoder.layer.0.output.dense.weight', 'encoder.layer.7.output.dense.weight', 'embeddings.LayerNorm.bias', 'encoder.layer.1.attention.self.query.bias', 'encoder.layer.3.attention.self.value.bias', 'encoder.layer.3.output.LayerNorm.weight', 'encoder.layer.5.output.LayerNorm.weight', 'encoder.layer.8.attention.output.dense.weight', 'encoder.layer.11.attention.output.dense.weight', 'encoder.layer.6.output.LayerNorm.weight', 'encoder.layer.8.attention.self.query.weight', 'encoder.layer.11.intermediate.dense.weight', 'encoder.layer.11.attention.self.key.weight', 'encoder.layer.9.attention.output.LayerNorm.bias', 'encoder.layer.3.attention.self.query.weight', 'encoder.layer.5.attention.output.LayerNorm.bias', 'encoder.layer.10.output.dense.weight', 'encoder.layer.6.attention.self.query.weight', 'encoder.layer.8.output.dense.bias', 'encoder.layer.1.output.dense.weight', 'encoder.layer.11.attention.self.value.weight', 'encoder.layer.5.attention.output.dense.bias', 'encoder.layer.6.output.dense.weight', 'encoder.layer.7.intermediate.dense.bias', 'encoder.layer.5.attention.output.dense.weight', 'encoder.layer.4.output.dense.bias', 'encoder.layer.8.attention.output.LayerNorm.weight', 'encoder.layer.7.attention.output.LayerNorm.weight', 'encoder.layer.9.attention.self.key.bias', 'encoder.layer.6.attention.output.LayerNorm.weight', 'encoder.layer.1.output.LayerNorm.bias', 'encoder.layer.0.output.LayerNorm.bias', 'encoder.layer.2.output.LayerNorm.weight', 'encoder.layer.0.attention.self.key.bias', 'encoder.layer.6.attention.self.key.weight', 'encoder.layer.8.attention.self.query.bias', 'encoder.layer.1.attention.output.dense.bias', 'encoder.layer.9.attention.output.dense.bias', 'encoder.layer.5.attention.output.LayerNorm.weight', 'encoder.layer.8.output.LayerNorm.bias', 'encoder.layer.3.attention.output.LayerNorm.weight', 'encoder.layer.0.intermediate.dense.weight', 'encoder.layer.7.attention.self.query.bias', 'encoder.layer.0.output.LayerNorm.weight', 'encoder.layer.6.attention.output.LayerNorm.bias', 'encoder.layer.1.attention.self.key.bias', 'encoder.layer.9.output.LayerNorm.bias', 'encoder.layer.2.attention.output.dense.weight', 'encoder.layer.3.attention.output.LayerNorm.bias', 'encoder.layer.5.attention.self.key.weight', 'encoder.layer.7.output.LayerNorm.weight', 'encoder.layer.11.output.dense.bias', 'encoder.layer.9.attention.output.dense.weight', 'encoder.layer.3.attention.output.dense.weight', 'encoder.layer.2.attention.self.value.weight', 'encoder.layer.4.intermediate.dense.weight', 'encoder.layer.5.attention.self.query.weight', 'encoder.layer.4.attention.self.key.weight', 'encoder.layer.7.attention.self.key.bias', 'encoder.layer.10.attention.output.LayerNorm.bias', 'encoder.layer.11.output.LayerNorm.weight', 'encoder.layer.10.attention.self.key.weight', 'encoder.layer.10.output.dense.bias', 'encoder.layer.6.intermediate.dense.bias', 'encoder.layer.0.attention.output.dense.bias', 'encoder.layer.0.attention.output.dense.weight', 'encoder.layer.3.attention.self.query.bias', 'encoder.layer.1.attention.self.query.weight', 'encoder.layer.5.attention.self.query.bias', 'encoder.layer.1.intermediate.dense.bias', 'encoder.layer.9.output.LayerNorm.weight', 'encoder.layer.4.attention.self.value.bias', 'encoder.layer.5.attention.self.value.bias', 'encoder.layer.5.output.dense.weight', 'encoder.layer.2.attention.self.key.bias', 'encoder.layer.10.output.LayerNorm.weight', 'encoder.layer.2.output.dense.bias', 'encoder.layer.9.attention.output.LayerNorm.weight', 'encoder.layer.5.output.LayerNorm.bias', 'encoder.layer.11.attention.output.LayerNorm.bias', 'encoder.layer.0.attention.self.query.bias', 'encoder.layer.3.output.dense.bias', 'encoder.layer.5.intermediate.dense.weight', 'encoder.layer.10.attention.output.dense.weight', 'encoder.layer.3.output.dense.weight', 'encoder.layer.8.output.LayerNorm.weight', 'encoder.layer.9.attention.self.value.bias', 'encoder.layer.8.attention.self.value.weight', 'encoder.layer.0.attention.self.query.weight', 'encoder.layer.6.attention.output.dense.weight', 'encoder.layer.2.attention.self.key.weight', 'encoder.layer.1.attention.output.LayerNorm.bias', 'encoder.layer.6.output.LayerNorm.bias', 'encoder.layer.8.attention.output.dense.bias', 'encoder.layer.11.attention.self.query.weight', 'encoder.layer.1.output.dense.bias', 'encoder.layer.7.attention.self.value.bias', 'encoder.layer.0.attention.self.key.weight', 'encoder.layer.4.attention.self.key.bias', 'encoder.layer.4.attention.self.query.weight', 'encoder.layer.4.attention.output.dense.bias', 'encoder.layer.10.attention.output.dense.bias', 'encoder.layer.8.attention.output.LayerNorm.bias', 'encoder.layer.2.attention.self.value.bias', 'encoder.layer.7.output.LayerNorm.bias', 'encoder.layer.10.output.LayerNorm.bias', 'encoder.layer.7.attention.output.dense.weight', 'encoder.layer.10.attention.self.key.bias', 'encoder.layer.11.intermediate.dense.bias', 'encoder.layer.8.attention.self.key.weight', 'encoder.layer.7.attention.output.LayerNorm.bias', 'encoder.layer.10.attention.self.value.bias', 'pooler.dense.weight', 'encoder.layer.2.attention.output.LayerNorm.weight', 'encoder.layer.2.intermediate.dense.bias', 'encoder.layer.10.attention.self.query.bias', 'encoder.layer.8.attention.self.value.bias', 'encoder.layer.7.attention.self.key.weight', 'encoder.layer.8.attention.self.key.bias', 'encoder.layer.9.attention.self.key.weight', 'encoder.layer.6.attention.self.query.bias', 'encoder.layer.3.output.LayerNorm.bias', 'encoder.layer.4.intermediate.dense.bias', 'encoder.layer.11.attention.self.key.bias']\n",
      "You should probably TRAIN this model on a down-stream task to be able to use it for predictions and inference.\n"
     ]
    }
   ],
   "source": [
    "from transformers import AutoModelForSequenceClassification, BertForSequenceClassification\n",
    "\n",
    "model = BertForSequenceClassification.from_pretrained(\"distilbert-base-uncased\", num_labels=3)"
   ]
  },
  {
   "cell_type": "code",
   "execution_count": 79,
   "metadata": {},
   "outputs": [
    {
     "name": "stderr",
     "output_type": "stream",
     "text": [
      "PyTorch: setting up devices\n",
      "The default value for the training argument `--report_to` will change in v5 (from all installed integrations to none). In v5, you will need to use `--report_to all` to get the same behavior as now. You should start updating your code and make this info disappear :-).\n"
     ]
    }
   ],
   "source": [
    "from transformers import TrainingArguments\n",
    "\n",
    "# I set the batch sizes a little higher so that training wouldn't take decades\n",
    "training_args = TrainingArguments(output_dir=\"test_trainer\", per_device_train_batch_size=100, per_device_eval_batch_size=100)"
   ]
  },
  {
   "cell_type": "code",
   "execution_count": 80,
   "metadata": {},
   "outputs": [],
   "source": [
    "import numpy as np\n",
    "from datasets import load_metric\n",
    "\n",
    "metric = load_metric(\"accuracy\")"
   ]
  },
  {
   "cell_type": "code",
   "execution_count": 81,
   "metadata": {},
   "outputs": [],
   "source": [
    "def compute_metrics(eval_pred):\n",
    "    logits, labels = eval_pred\n",
    "    predictions = np.argmax(logits, axis=-1)\n",
    "    return metric.compute(predictions=predictions, references=labels)"
   ]
  },
  {
   "cell_type": "code",
   "execution_count": 82,
   "metadata": {},
   "outputs": [],
   "source": [
    "from transformers import Trainer\n",
    "\n",
    "trainer = Trainer(\n",
    "    model=model,\n",
    "    args=training_args,\n",
    "    train_dataset=small_train_dataset,\n",
    "    eval_dataset=small_eval_dataset,\n",
    "    compute_metrics=compute_metrics,\n",
    ")"
   ]
  },
  {
   "cell_type": "code",
   "execution_count": 83,
   "metadata": {},
   "outputs": [
    {
     "name": "stderr",
     "output_type": "stream",
     "text": [
      "The following columns in the training set  don't have a corresponding argument in `BertForSequenceClassification.forward` and have been ignored: explanation_3, premise, hypothesis, explanation_1, explanation_2.\n",
      "c:\\users\\lenna\\appdata\\local\\programs\\python\\python38\\lib\\site-packages\\transformers\\optimization.py:306: FutureWarning: This implementation of AdamW is deprecated and will be removed in a future version. Use thePyTorch implementation torch.optim.AdamW instead, or set `no_deprecation_warning=True` to disable this warning\n",
      "  warnings.warn(\n",
      "***** Running training *****\n",
      "  Num examples = 1000\n",
      "  Num Epochs = 3\n",
      "  Instantaneous batch size per device = 100\n",
      "  Total train batch size (w. parallel, distributed & accumulation) = 100\n",
      "  Gradient Accumulation steps = 1\n",
      "  Total optimization steps = 30\n"
     ]
    },
    {
     "data": {
      "text/html": [
       "\n",
       "    <div>\n",
       "      \n",
       "      <progress value='30' max='30' style='width:300px; height:20px; vertical-align: middle;'></progress>\n",
       "      [30/30 1:21:46, Epoch 3/3]\n",
       "    </div>\n",
       "    <table border=\"1\" class=\"dataframe\">\n",
       "  <thead>\n",
       " <tr style=\"text-align: left;\">\n",
       "      <th>Step</th>\n",
       "      <th>Training Loss</th>\n",
       "    </tr>\n",
       "  </thead>\n",
       "  <tbody>\n",
       "  </tbody>\n",
       "</table><p>"
      ],
      "text/plain": [
       "<IPython.core.display.HTML object>"
      ]
     },
     "metadata": {},
     "output_type": "display_data"
    },
    {
     "name": "stderr",
     "output_type": "stream",
     "text": [
      "\n",
      "\n",
      "Training completed. Do not forget to share your model on huggingface.co/models =)\n",
      "\n",
      "\n"
     ]
    },
    {
     "data": {
      "text/plain": [
       "TrainOutput(global_step=30, training_loss=1.1604153951009115, metrics={'train_runtime': 5059.361, 'train_samples_per_second': 0.593, 'train_steps_per_second': 0.006, 'total_flos': 192710022750000.0, 'train_loss': 1.1604153951009115, 'epoch': 3.0})"
      ]
     },
     "execution_count": 83,
     "metadata": {},
     "output_type": "execute_result"
    }
   ],
   "source": [
    "trainer.train()"
   ]
  },
  {
   "cell_type": "code",
   "execution_count": 86,
   "metadata": {},
   "outputs": [],
   "source": [
    "small_validation_dataset = tokenized_datasets[\"validation\"].shuffle(seed=42).select(range(1000))"
   ]
  },
  {
   "cell_type": "code",
   "execution_count": 87,
   "metadata": {
    "scrolled": true
   },
   "outputs": [
    {
     "name": "stderr",
     "output_type": "stream",
     "text": [
      "The following columns in the test set  don't have a corresponding argument in `BertForSequenceClassification.forward` and have been ignored: explanation_3, premise, hypothesis, explanation_1, explanation_2.\n",
      "***** Running Prediction *****\n",
      "  Num examples = 1000\n",
      "  Batch size = 100\n"
     ]
    },
    {
     "data": {
      "text/plain": [
       "PredictionOutput(predictions=array([[-0.40270138, -0.6136879 , -0.5145344 ],\n",
       "       [-0.50355315, -0.4896132 , -0.5198801 ],\n",
       "       [-0.36529583, -0.64300907, -0.5176122 ],\n",
       "       ...,\n",
       "       [-0.4442964 , -0.55423146, -0.5170429 ],\n",
       "       [-0.4353521 , -0.5774934 , -0.5218556 ],\n",
       "       [-0.41022757, -0.6020552 , -0.5180179 ]], dtype=float32), label_ids=array([2, 1, 0, 0, 1, 2, 2, 1, 1, 1, 1, 0, 1, 0, 2, 2, 2, 0, 2, 2, 0, 2,\n",
       "       0, 2, 1, 0, 2, 0, 0, 1, 1, 2, 0, 1, 0, 1, 0, 2, 1, 1, 2, 0, 1, 1,\n",
       "       1, 2, 2, 1, 0, 1, 0, 0, 2, 0, 1, 0, 2, 2, 2, 0, 1, 0, 0, 0, 2, 0,\n",
       "       2, 2, 0, 0, 2, 0, 0, 0, 2, 1, 0, 1, 2, 1, 1, 0, 2, 2, 1, 0, 2, 1,\n",
       "       2, 0, 2, 0, 1, 2, 0, 1, 2, 0, 2, 1, 1, 2, 2, 2, 2, 2, 0, 0, 0, 1,\n",
       "       1, 0, 0, 1, 1, 2, 1, 0, 1, 0, 1, 1, 2, 0, 1, 1, 2, 0, 0, 0, 1, 0,\n",
       "       0, 1, 0, 1, 2, 0, 0, 2, 0, 2, 0, 1, 1, 0, 0, 1, 1, 0, 2, 0, 1, 1,\n",
       "       1, 1, 1, 0, 1, 0, 2, 2, 2, 1, 0, 2, 2, 1, 0, 1, 0, 2, 1, 0, 0, 2,\n",
       "       2, 0, 1, 0, 0, 1, 0, 0, 0, 2, 2, 0, 2, 2, 2, 0, 1, 1, 0, 0, 0, 0,\n",
       "       2, 1, 1, 2, 0, 0, 0, 0, 0, 1, 1, 1, 0, 1, 0, 1, 1, 0, 2, 1, 0, 2,\n",
       "       2, 2, 0, 0, 1, 0, 0, 1, 0, 0, 0, 1, 1, 2, 0, 1, 0, 0, 2, 2, 0, 0,\n",
       "       0, 2, 0, 1, 2, 2, 1, 1, 2, 2, 0, 0, 1, 0, 0, 2, 0, 0, 0, 0, 2, 2,\n",
       "       0, 2, 0, 2, 1, 0, 2, 2, 0, 0, 2, 2, 1, 1, 0, 2, 0, 2, 0, 2, 1, 0,\n",
       "       0, 1, 0, 2, 0, 0, 1, 2, 0, 1, 2, 0, 0, 2, 2, 2, 0, 1, 0, 0, 1, 0,\n",
       "       1, 2, 0, 2, 2, 0, 1, 1, 1, 0, 2, 1, 1, 2, 1, 2, 1, 2, 1, 2, 2, 0,\n",
       "       0, 0, 2, 2, 1, 0, 0, 2, 0, 0, 2, 2, 1, 1, 0, 2, 1, 2, 0, 0, 1, 1,\n",
       "       2, 1, 0, 2, 0, 0, 2, 0, 2, 1, 2, 2, 0, 0, 1, 1, 0, 1, 0, 1, 0, 0,\n",
       "       1, 2, 1, 2, 2, 1, 2, 2, 1, 2, 2, 0, 2, 0, 1, 1, 1, 2, 2, 0, 0, 0,\n",
       "       0, 0, 0, 0, 0, 1, 0, 2, 0, 1, 0, 0, 0, 0, 1, 1, 1, 2, 0, 2, 1, 2,\n",
       "       1, 0, 0, 2, 0, 0, 0, 2, 2, 2, 0, 0, 0, 1, 0, 1, 2, 1, 0, 2, 0, 1,\n",
       "       2, 2, 1, 2, 1, 0, 2, 0, 0, 1, 1, 1, 1, 0, 0, 0, 0, 2, 1, 1, 1, 1,\n",
       "       1, 0, 0, 2, 2, 2, 0, 0, 0, 2, 1, 2, 2, 0, 0, 2, 0, 1, 0, 0, 1, 2,\n",
       "       0, 1, 1, 1, 0, 2, 2, 0, 2, 1, 2, 2, 1, 2, 2, 1, 1, 0, 2, 2, 0, 2,\n",
       "       0, 0, 0, 1, 0, 2, 2, 0, 2, 2, 1, 1, 2, 1, 1, 1, 2, 2, 1, 1, 0, 1,\n",
       "       2, 0, 1, 2, 0, 1, 0, 2, 0, 2, 2, 2, 0, 2, 0, 2, 0, 2, 0, 2, 1, 2,\n",
       "       0, 2, 0, 0, 2, 2, 2, 0, 2, 0, 0, 0, 2, 1, 0, 1, 1, 1, 1, 1, 2, 2,\n",
       "       0, 0, 0, 2, 0, 0, 2, 2, 0, 1, 0, 2, 2, 0, 0, 0, 1, 0, 0, 2, 1, 2,\n",
       "       0, 0, 0, 2, 2, 0, 0, 0, 0, 2, 2, 2, 2, 2, 0, 2, 2, 0, 0, 0, 0, 1,\n",
       "       1, 0, 1, 0, 2, 2, 1, 2, 2, 2, 1, 0, 0, 2, 0, 0, 1, 1, 2, 2, 1, 1,\n",
       "       2, 0, 0, 2, 1, 0, 2, 2, 0, 1, 0, 1, 0, 0, 0, 1, 0, 2, 1, 2, 2, 1,\n",
       "       0, 1, 2, 2, 2, 2, 2, 0, 2, 1, 0, 1, 0, 2, 0, 1, 2, 2, 1, 1, 2, 2,\n",
       "       2, 1, 0, 0, 2, 1, 2, 2, 2, 1, 0, 2, 2, 2, 1, 0, 0, 2, 1, 0, 0, 0,\n",
       "       1, 1, 0, 1, 0, 0, 2, 1, 0, 1, 1, 2, 2, 1, 2, 0, 2, 0, 0, 1, 1, 1,\n",
       "       1, 2, 2, 1, 0, 1, 2, 2, 2, 2, 0, 2, 1, 2, 1, 2, 2, 0, 1, 2, 2, 0,\n",
       "       1, 0, 1, 2, 2, 1, 1, 0, 2, 1, 1, 2, 1, 1, 1, 2, 1, 2, 1, 1, 0, 2,\n",
       "       0, 1, 2, 1, 0, 0, 0, 1, 2, 2, 1, 2, 0, 2, 0, 1, 0, 2, 1, 1, 0, 0,\n",
       "       2, 2, 1, 0, 1, 1, 2, 0, 2, 2, 1, 2, 0, 1, 2, 0, 0, 0, 0, 1, 2, 0,\n",
       "       1, 2, 2, 1, 2, 0, 2, 0, 2, 1, 2, 1, 2, 1, 2, 0, 0, 1, 0, 0, 2, 1,\n",
       "       1, 2, 0, 1, 2, 0, 0, 1, 1, 1, 1, 2, 0, 1, 0, 0, 2, 1, 1, 1, 2, 1,\n",
       "       1, 1, 0, 0, 0, 0, 0, 2, 1, 0, 0, 1, 2, 0, 1, 0, 1, 0, 0, 2, 2, 0,\n",
       "       0, 2, 2, 2, 2, 0, 2, 1, 2, 2, 2, 1, 2, 1, 2, 0, 1, 0, 1, 0, 1, 2,\n",
       "       2, 0, 1, 2, 0, 0, 2, 2, 0, 2, 1, 1, 2, 0, 2, 1, 2, 0, 1, 2, 0, 1,\n",
       "       0, 0, 0, 1, 2, 1, 2, 1, 1, 0, 2, 1, 0, 0, 0, 1, 0, 1, 0, 0, 2, 1,\n",
       "       0, 2, 1, 2, 2, 0, 0, 0, 2, 2, 0, 1, 1, 2, 0, 0, 0, 2, 0, 2, 2, 2,\n",
       "       1, 0, 2, 2, 1, 0, 2, 2, 1, 0, 2, 1, 1, 0, 2, 0, 1, 2, 0, 2, 0, 2,\n",
       "       1, 0, 1, 1, 0, 0, 0, 0, 1, 0], dtype=int64), metrics={'test_loss': 1.0753757953643799, 'test_accuracy': 0.47, 'test_runtime': 287.2909, 'test_samples_per_second': 3.481, 'test_steps_per_second': 0.035})"
      ]
     },
     "execution_count": 87,
     "metadata": {},
     "output_type": "execute_result"
    }
   ],
   "source": [
    "trainer.predict(small_validation_dataset)"
   ]
  },
  {
   "cell_type": "code",
   "execution_count": null,
   "metadata": {},
   "outputs": [],
   "source": []
  }
 ],
 "metadata": {
  "kernelspec": {
   "display_name": "Python 3",
   "language": "python",
   "name": "python3"
  },
  "language_info": {
   "codemirror_mode": {
    "name": "ipython",
    "version": 3
   },
   "file_extension": ".py",
   "mimetype": "text/x-python",
   "name": "python",
   "nbconvert_exporter": "python",
   "pygments_lexer": "ipython3",
   "version": "3.8.3"
  }
 },
 "nbformat": 4,
 "nbformat_minor": 4
}
